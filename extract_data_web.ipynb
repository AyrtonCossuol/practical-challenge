{
  "cells": [
    {
      "cell_type": "markdown",
      "metadata": {
        "id": "MqQ4V-JI05f7"
      },
      "source": [
        "# 0. Importing libraries"
      ]
    },
    {
      "cell_type": "code",
      "execution_count": null,
      "metadata": {
        "id": "fYsZ-2LMxVGZ"
      },
      "outputs": [],
      "source": [
        "#!pip install wget\n",
        "import wget\n",
        "import zipfile\n",
        "import glob\n",
        "import pandas as pd\n",
        "from google.colab import files"
      ]
    },
    {
      "cell_type": "markdown",
      "source": [
        "## 1. Loading data"
      ],
      "metadata": {
        "id": "IkOoiBIQHzZj"
      }
    },
    {
      "cell_type": "code",
      "execution_count": null,
      "metadata": {
        "colab": {
          "background_save": true
        },
        "id": "61QEdfXkySLP"
      },
      "outputs": [],
      "source": [
        "for state in states:\n",
        "  for j in range(1, 13):\n",
        "    if j < 10:\n",
        "      link_1 = f'{state}_20190{j}_HOSP_CONS.zip'\n",
        "      link_2 = f'{state}_20190{j}_HOSP_DET.zip'\n",
        "    else:\n",
        "      link_1 = f'{state}_2019{j}_HOSP_CONS.zip'\n",
        "      link_2 = f'{state}_2019{j}_HOSP_DET.zip'\n",
        "    \n",
        "    url_1 = f'http://ftp.dadosabertos.ans.gov.br/FTP/PDA/TISS/HOSPITALAR/2019/{state}/' + link_1\n",
        "    url_2 = f'http://ftp.dadosabertos.ans.gov.br/FTP/PDA/TISS/HOSPITALAR/2019/{state}/' + link_2\n",
        "    \n",
        "    filename = wget.download(url_1)\n",
        "    filename = wget.download(url_2)"
      ]
    },
    {
      "cell_type": "markdown",
      "source": [
        "# 2. Saving the files"
      ],
      "metadata": {
        "id": "rsGIIWJnH6Aj"
      }
    },
    {
      "cell_type": "code",
      "execution_count": null,
      "metadata": {
        "id": "Eb_C35lpzcJr"
      },
      "outputs": [],
      "source": [
        "for state in states:\n",
        "  for j in range(1, 13):\n",
        "    if j < 10:\n",
        "      path_1 = f'/content/{state}_20190{j}_HOSP_CONS.zip'\n",
        "      path_2 = f'/content/{state}_20190{j}_HOSP_DET.zip'\n",
        "    else:\n",
        "      path_1 = f'/content/{state}_2019{j}_HOSP_CONS.zip'\n",
        "      path_2 = f'/content/{state}_2019{j}_HOSP_DET.zip'\n",
        "    \n",
        "    with zipfile.ZipFile(path_1, 'r') as zip_ref:\n",
        "      zip_ref.extractall('/content/drive/MyDrive/Colab Notebooks/results_csvs/_CONS/')\n",
        "    with zipfile.ZipFile(path_2, 'r') as zip_ref:\n",
        "      zip_ref.extractall('/content/drive/MyDrive/Colab Notebooks/results_csvs/_DET/')"
      ]
    },
    {
      "cell_type": "markdown",
      "source": [
        "# 3. Attempt to join the tables"
      ],
      "metadata": {
        "id": "s_-vAi4jIFBD"
      }
    },
    {
      "cell_type": "code",
      "execution_count": null,
      "metadata": {
        "id": "Z4Lj1Y8c2u5E"
      },
      "outputs": [],
      "source": [
        "df_det = []\n",
        "df_det_aux = []\n",
        "df_cons = []\n",
        "df_cons_aux = []\n",
        "\n",
        "for file in glob.glob(\"/content/drive/MyDrive/Colab Notebooks/csv results/*\"):\n",
        "    if file.find('_DET') > 0:\n",
        "      dff = pd.read_csv(file, sep=';')\n",
        "      df_det_aux.append(dff)\n",
        "    #else:\n",
        "    #  dff = pd.read_csv(file, sep=';')\n",
        "    #  df_cons_aux.append(dff)\n",
        "\n"
      ]
    },
    {
      "cell_type": "markdown",
      "source": [
        "* As the attempt to join the tables using Google Colab was not successful due to the high amount of memory, we preferred to do the entire join by Databricks with the help of Spark with its distributed processing."
      ],
      "metadata": {
        "id": "-18zfM6mIPIU"
      }
    }
  ],
  "metadata": {
    "colab": {
      "name": "extract_data_web.ipynb",
      "provenance": []
    },
    "kernelspec": {
      "display_name": "Python 3",
      "name": "python3"
    },
    "language_info": {
      "name": "python"
    }
  },
  "nbformat": 4,
  "nbformat_minor": 0
}